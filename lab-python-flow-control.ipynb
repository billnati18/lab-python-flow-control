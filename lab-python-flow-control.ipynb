{
 "cells": [
  {
   "cell_type": "markdown",
   "id": "d3bfc191-8885-42ee-b0a0-bbab867c6f9f",
   "metadata": {
    "tags": []
   },
   "source": [
    "# Lab | Flow Control"
   ]
  },
  {
   "cell_type": "markdown",
   "id": "3851fcd1-cf98-4653-9c89-e003b7ec9400",
   "metadata": {},
   "source": [
    "## Exercise: Managing Customer Orders Optimized\n",
    "\n",
    "In the last lab, you were starting an online store that sells various products. To ensure smooth operations, you developed a program that manages customer orders and inventory.\n",
    "\n",
    "You did so without using flow control. Let's go a step further and improve this code.\n",
    "\n",
    "Follow the steps below to complete the exercise:\n",
    "\n",
    "1. Look at your code from the lab data structures, and improve repeated code with loops.\n",
    "\n",
    "2. Instead of asking the user to input the name of three products that a customer wants to order, do the following:\n",
    "    \n",
    "    a. Prompt the user to enter the name of a product that a customer wants to order.\n",
    "    \n",
    "    b. Add the product name to the \"customer_orders\" set.\n",
    "    \n",
    "    c. Ask the user if they want to add another product (yes/no).\n",
    "    \n",
    "    d. Continue the loop until the user does not want to add another product.\n",
    "\n",
    "3. Instead of updating the inventory by subtracting 1 from the quantity of each product, only do it for  the products that were ordered (those in \"customer_orders\")."
   ]
  },
  {
   "cell_type": "code",
   "execution_count": 3,
   "id": "2042a690",
   "metadata": {},
   "outputs": [
    {
     "name": "stdout",
     "output_type": "stream",
     "text": [
      "Input the quantity of each t-shirt available here: 1\n",
      "Input the quantity of each mug available here: 2\n",
      "Input the quantity of each hat available here: 3\n",
      "Input the quantity of each book available here: 4\n",
      "Input the quantity of each keychain available here: 5\n",
      "Enter the name of the product the customer wants to order: t-shirt\n",
      "Do you want to add another product? yes or no: yes\n",
      "Enter the name of the product the customer wants to order: \n",
      "Please type a product in ['t-shirt', 'mug', 'hat', 'book', 'keychain']: book\n",
      "Do you want to add another product? yes or no: no\n",
      "Customer Orders:  {'book', 't-shirt'}\n"
     ]
    },
    {
     "ename": "ZeroDivisionError",
     "evalue": "division by zero",
     "output_type": "error",
     "traceback": [
      "\u001b[1;31m---------------------------------------------------------------------------\u001b[0m",
      "\u001b[1;31mZeroDivisionError\u001b[0m                         Traceback (most recent call last)",
      "Cell \u001b[1;32mIn[3], line 30\u001b[0m\n\u001b[0;32m     28\u001b[0m total_purchase \u001b[38;5;241m=\u001b[39m \u001b[38;5;28mlen\u001b[39m(customer_orders)\n\u001b[0;32m     29\u001b[0m quantity_of_products \u001b[38;5;241m=\u001b[39m \u001b[38;5;28msum\u001b[39m(inventory\u001b[38;5;241m.\u001b[39mvalues())\n\u001b[1;32m---> 30\u001b[0m order_percentual \u001b[38;5;241m=\u001b[39m (total_purchase\u001b[38;5;241m/\u001b[39mquantity_of_products)\u001b[38;5;241m*\u001b[39m\u001b[38;5;241m100\u001b[39m\n\u001b[0;32m     31\u001b[0m statistics_tuple \u001b[38;5;241m=\u001b[39m (total_purchase,order_percentual)\n\u001b[0;32m     33\u001b[0m \u001b[38;5;28mprint\u001b[39m(\u001b[38;5;124mf\u001b[39m\u001b[38;5;124m'''\u001b[39m\u001b[38;5;124mOrder Statistics:\u001b[39m\n\u001b[0;32m     34\u001b[0m \u001b[38;5;124m   Total Products Ordered: \u001b[39m\u001b[38;5;132;01m{\u001b[39;00mstatistics_tuple[\u001b[38;5;241m0\u001b[39m]\u001b[38;5;132;01m}\u001b[39;00m\n\u001b[0;32m     35\u001b[0m \u001b[38;5;124m   Percentage of Products Ordered: \u001b[39m\u001b[38;5;132;01m{\u001b[39;00mstatistics_tuple[\u001b[38;5;241m1\u001b[39m]\u001b[38;5;132;01m}\u001b[39;00m\u001b[38;5;124m%\u001b[39m\u001b[38;5;124m'''\u001b[39m)\n",
      "\u001b[1;31mZeroDivisionError\u001b[0m: division by zero"
     ]
    }
   ],
   "source": [
    "products = [ \"t-shirt\", \"mug\", \"hat\", \"book\", \"keychain\" ]\n",
    "inventory = {}\n",
    "\n",
    "for product in products:\n",
    "    quantity = input(f'Input the quantity of each {product} available here: ' )\n",
    "    while not quantity.isdigit():\n",
    "        quantity = input(f'Input the quantity of each {product} available here, please type a digit: ')\n",
    "        inventory[product] = int(quantity)\n",
    "        print(f\"Product{product} has {quantity} in stock\")\n",
    "\n",
    "customer_orders = set() #create customer cart \n",
    "\n",
    "while True:\n",
    "    order = input('Enter the name of the product the customer wants to order: ')\n",
    "    while order not in products:\n",
    "        order = input(f'Please type a product in {products}: ')\n",
    "        \n",
    "    customer_orders.add(order)\n",
    "    \n",
    "    another_order = input('Do you want to add another product? yes or no: ')\n",
    "    if another_order.lower() != 'yes': \n",
    "        break\n",
    "\n",
    "print('Customer Orders: ' , customer_orders)\n",
    "\n",
    "\n",
    "\n",
    "total_purchase = len(customer_orders)\n",
    "quantity_of_products = sum(inventory.values())\n",
    "order_percentual = (total_purchase/quantity_of_products)*100\n",
    "statistics_tuple = (total_purchase,order_percentual)\n",
    "\n",
    "print(f'''Order Statistics:\n",
    "   Total Products Ordered: {statistics_tuple[0]}\n",
    "   Percentage of Products Ordered: {statistics_tuple[1]}%''')\n",
    "\n",
    "for product in customer_orders:\n",
    "    inventory[product] -= 1\n",
    "    \n",
    "print(\"Updated Inventory: \", inventory)\n",
    "    "
   ]
  },
  {
   "cell_type": "code",
   "execution_count": null,
   "id": "ed88ce6f",
   "metadata": {},
   "outputs": [],
   "source": []
  }
 ],
 "metadata": {
  "kernelspec": {
   "display_name": "Python 3 (ipykernel)",
   "language": "python",
   "name": "python3"
  },
  "language_info": {
   "codemirror_mode": {
    "name": "ipython",
    "version": 3
   },
   "file_extension": ".py",
   "mimetype": "text/x-python",
   "name": "python",
   "nbconvert_exporter": "python",
   "pygments_lexer": "ipython3",
   "version": "3.11.5"
  }
 },
 "nbformat": 4,
 "nbformat_minor": 5
}
